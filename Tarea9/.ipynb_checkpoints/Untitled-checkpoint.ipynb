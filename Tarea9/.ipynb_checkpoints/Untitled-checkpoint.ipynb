{
 "cells": [
  {
   "cell_type": "markdown",
   "id": "4c4a11fa",
   "metadata": {},
   "source": [
    "# Tarea 9 Jose Porras\n"
   ]
  },
  {
   "cell_type": "markdown",
   "id": "8f300fdc",
   "metadata": {},
   "source": [
    "## Pregunta 1"
   ]
  },
  {
   "cell_type": "code",
   "execution_count": 5,
   "id": "fd826700",
   "metadata": {},
   "outputs": [
    {
     "name": "stdout",
     "output_type": "stream",
     "text": [
      "1024\n",
      "4\n",
      "32\n"
     ]
    }
   ],
   "source": [
    "def pregunta1(n,m):\n",
    "    if m == 0:\n",
    "        return 0\n",
    "    if n == 0:\n",
    "        return (2*m);\n",
    "    if m == 1:\n",
    "        return 2\n",
    "    else:\n",
    "        return pregunta1(n-1,pregunta1(n,m-1))\n",
    "    \n",
    "print(pregunta1(1,10))\n",
    "\n",
    "print(pregunta1(1,2))\n",
    "print(pregunta1(1,5))"
   ]
  },
  {
   "cell_type": "markdown",
   "id": "c092c0c0",
   "metadata": {},
   "source": [
    "## Pregunta 2"
   ]
  },
  {
   "cell_type": "code",
   "execution_count": 2,
   "id": "ce693d2c",
   "metadata": {},
   "outputs": [
    {
     "name": "stdout",
     "output_type": "stream",
     "text": [
      "4\n",
      "9\n",
      "106\n"
     ]
    }
   ],
   "source": [
    "def pregunta2(n):\n",
    "    if n == 1:\n",
    "        return 0\n",
    "    if (n%2) == 0:\n",
    "        return pregunta2(n/2) +1\n",
    "    else:\n",
    "        return pregunta2(1+ (3*n)) + 1\n",
    "\n",
    "    \n",
    "print(pregunta2(16))  \n",
    "print(pregunta2(12))    \n",
    "print(pregunta2(31))"
   ]
  },
  {
   "cell_type": "markdown",
   "id": "2ee09e77",
   "metadata": {},
   "source": [
    "## Pregunta 2 Iterativo"
   ]
  },
  {
   "cell_type": "code",
   "execution_count": 6,
   "id": "6bd0f934",
   "metadata": {},
   "outputs": [
    {
     "name": "stdout",
     "output_type": "stream",
     "text": [
      "\n",
      "Pregunta 2 Iterativo\n",
      "4\n",
      "9\n",
      "106\n"
     ]
    }
   ],
   "source": [
    "def pregunta2_iter(i,n):\n",
    "    if n == 1:\n",
    "        return i\n",
    "    if (n%2)==0:\n",
    "        return pregunta2_iter(i+1,n/2)\n",
    "    else:\n",
    "        return pregunta2_iter(i+1,1+(3*n))\n",
    "    \n",
    "\n",
    "def pregunta2(n):\n",
    "    return pregunta2_iter(0,n)\n",
    "\n",
    "\n",
    "\n",
    "print(pregunta2(16))\n",
    "print(pregunta2(12))\n",
    "print(pregunta2(31))\n",
    "               "
   ]
  },
  {
   "cell_type": "markdown",
   "id": "7cdd76e9",
   "metadata": {},
   "source": [
    "## Pregunta 3"
   ]
  },
  {
   "cell_type": "code",
   "execution_count": 7,
   "id": "26646419",
   "metadata": {},
   "outputs": [
    {
     "name": "stdout",
     "output_type": "stream",
     "text": [
      "-9\n",
      "118711\n",
      "-38916\n"
     ]
    }
   ],
   "source": [
    "def pregunta3(n):\n",
    "    if n == 0 :\n",
    "        return 1\n",
    "    if n  == 1:\n",
    "        return 0\n",
    "    if n  ==  2:\n",
    "        return -1\n",
    "    else:\n",
    "        return (2*pregunta3(n-1) - (7 * pregunta3(n-2)) - 6*pregunta3(n-3))\n",
    "    \n",
    "    \n",
    "\n",
    "print(pregunta3(4))\n",
    "print(pregunta3(12))\n",
    "print(pregunta3(13))\n"
   ]
  },
  {
   "cell_type": "markdown",
   "id": "5031066e",
   "metadata": {},
   "source": [
    "## Pregunta 3 Iterativo"
   ]
  },
  {
   "cell_type": "code",
   "execution_count": 8,
   "id": "4f19e333",
   "metadata": {},
   "outputs": [
    {
     "name": "stdout",
     "output_type": "stream",
     "text": [
      "-9\n",
      "118711\n",
      "-38916\n"
     ]
    }
   ],
   "source": [
    "def pregunta3_iter_wrapper(n):\n",
    "    return  pregunta3iter(0, -1, 1, 1,n)\n",
    "\n",
    "\n",
    "\n",
    "def pregunta3iter(ant,res,transante,i,n):\n",
    "    if i >= n:\n",
    "        return ant\n",
    "    else:\n",
    "        return pregunta3iter(res,((2*res) - (7*ant) - (6*transante)),ant,(i+1),n )\n",
    "    \n",
    "    \n",
    "print(pregunta3_iter_wrapper(4))   \n",
    "print(pregunta3_iter_wrapper(12))  \n",
    "print(pregunta3_iter_wrapper(13))   "
   ]
  },
  {
   "cell_type": "markdown",
   "id": "4a222e8e",
   "metadata": {},
   "source": [
    "## Pregunta 4 Normal"
   ]
  },
  {
   "cell_type": "code",
   "execution_count": 9,
   "id": "a991ccec",
   "metadata": {},
   "outputs": [
    {
     "name": "stdout",
     "output_type": "stream",
     "text": [
      "1089\n",
      "217157034590001\n",
      "1289990263734328689\n"
     ]
    }
   ],
   "source": [
    "def productoria_normal(a, n):\n",
    "  if(a  > n):\n",
    "    return (1)\n",
    "  \n",
    "  else:\n",
    "    return ((((7 * a) + ( a* a* a) - 11)  *  ((7 * a) + ( a* a* a) - 11) ) * (productoria_normal ((a + 1),n )))\n",
    "  \n",
    "\n",
    "print(productoria_normal(1,2))\n",
    "print(productoria_normal(1,5))\n",
    "print(productoria_normal(4,7))\n"
   ]
  },
  {
   "cell_type": "markdown",
   "id": "2646dc49",
   "metadata": {},
   "source": [
    "## Pregunta 4 Termino"
   ]
  },
  {
   "cell_type": "code",
   "execution_count": 10,
   "id": "f6b9fd9b",
   "metadata": {},
   "outputs": [
    {
     "name": "stdout",
     "output_type": "stream",
     "text": [
      "1089\n",
      "217157034590001\n",
      "1289990263734328689\n"
     ]
    }
   ],
   "source": [
    "def cuadrado(a):\n",
    "  return(a*a)\n",
    "\n",
    "def cubo(a):\n",
    "  return(a*a*a)\n",
    "\n",
    "def productoria(f,a,n):\n",
    "  if(a>n):\n",
    "    return (1)\n",
    "  else:\n",
    "    return(f(a)*productoria(f,(a+1),n))\n",
    "  \n",
    "\n",
    "\n",
    "def termino(n):\n",
    "  return (cuadrado(cubo(n)+(7*n)-11))\n",
    "\n",
    "\n",
    "def productoria_termino(a, n):\n",
    "  return (productoria(termino,a,n))\n",
    "\n",
    "\n",
    "print(productoria_termino(1,2))\n",
    "print(productoria_termino(1,5))\n",
    "print(productoria_termino(4,7))"
   ]
  },
  {
   "cell_type": "markdown",
   "id": "6680c5e5",
   "metadata": {},
   "source": [
    "## Pregunta 4 Lambda"
   ]
  },
  {
   "cell_type": "code",
   "execution_count": 11,
   "id": "bdc85d74",
   "metadata": {},
   "outputs": [
    {
     "name": "stdout",
     "output_type": "stream",
     "text": [
      "1089\n",
      "217157034590001\n",
      "1289990263734328689\n"
     ]
    }
   ],
   "source": [
    "def productoria_lambda(a,n):\n",
    "    return productoria(lambda x: cuadrado(cubo(x)+(7*x)-11),a,n)\n",
    "\n",
    "\n",
    "print(productoria_lambda(1,2))\n",
    "print(productoria_lambda(1,5))\n",
    "print(productoria_lambda(4,7))"
   ]
  },
  {
   "cell_type": "code",
   "execution_count": null,
   "id": "39d62b4c",
   "metadata": {},
   "outputs": [],
   "source": [
    "## Pregunta 5"
   ]
  },
  {
   "cell_type": "code",
   "execution_count": 13,
   "id": "b9e3a5d5",
   "metadata": {},
   "outputs": [
    {
     "name": "stdout",
     "output_type": "stream",
     "text": [
      "Abundante\n",
      "Defectivo\n",
      "Perfecto\n"
     ]
    }
   ],
   "source": [
    "def es_factor(x, k):\n",
    "  if((x %k) == 0):\n",
    "    return (True)\n",
    "  \n",
    "  return (False)\n",
    "  \n",
    "\n",
    "def suma_factores(x,k):\n",
    "  if(k > ((x/2)+1)):\n",
    "    return (0)\n",
    "  \n",
    "  else:\n",
    "    if(es_factor(x,k)):\n",
    "      return (k + suma_factores(x,(k+1)))\n",
    "    \n",
    "    else:\n",
    "      return (suma_factores(x,(k+1)))\n",
    "      \n",
    "\n",
    "def clasificacion(n):\n",
    "  if(suma_factores(n,1) == n):\n",
    "    print(\"Perfecto\")\n",
    "  \n",
    "  else:\n",
    "    if(suma_factores(n,1) > n):\n",
    "      print(\"Abundante\")\n",
    "    \n",
    "    else:\n",
    "      print(\"Defectivo\")\n",
    "\n",
    "clasificacion(12)\n",
    "clasificacion(10)\n",
    "clasificacion(6)"
   ]
  },
  {
   "cell_type": "markdown",
   "id": "6db6aedf",
   "metadata": {},
   "source": [
    "## Pregunta 6"
   ]
  },
  {
   "cell_type": "code",
   "execution_count": null,
   "id": "7b8fcf27",
   "metadata": {},
   "outputs": [],
   "source": [
    "from cons import cons, car, cdr\n",
    "\n",
    "def porcen_vector(lista, n):\n",
    "  if(len(lista) == 0):\n",
    "    return (0)\n",
    "  \n",
    "  else:\n",
    "    if(car(lista) <= n):\n",
    "      return(1 + porcen_vector(cdr(lista),n ) )\n",
    "    \n",
    "    else:\n",
    "      return (porcen_vector(cdr(lista),n))\n",
    "\n",
    "\n",
    "print(porcen_vector([3, 3, 3, 3 ,3 ,3 ,10 ,10,10 ,10],3))\n",
    "print(porcen_vector([2, 2, 3, 4 ,5 ,6 ,10 ,10,10 ,10],1))\n",
    "print(porcen_vector([1,2,3,4,5,6],4))\n"
   ]
  },
  {
   "cell_type": "code",
   "execution_count": null,
   "id": "731ee41d",
   "metadata": {},
   "outputs": [],
   "source": []
  }
 ],
 "metadata": {
  "kernelspec": {
   "display_name": "Python 3 (ipykernel)",
   "language": "python",
   "name": "python3"
  },
  "language_info": {
   "codemirror_mode": {
    "name": "ipython",
    "version": 3
   },
   "file_extension": ".py",
   "mimetype": "text/x-python",
   "name": "python",
   "nbconvert_exporter": "python",
   "pygments_lexer": "ipython3",
   "version": "3.8.8"
  }
 },
 "nbformat": 4,
 "nbformat_minor": 5
}
