{
 "cells": [
  {
   "cell_type": "markdown",
   "id": "0771279e",
   "metadata": {},
   "source": [
    "# Tarea 9 Jose Porras\n"
   ]
  },
  {
   "cell_type": "markdown",
   "id": "30c1596b",
   "metadata": {},
   "source": [
    "## Pregunta 1"
   ]
  },
  {
   "cell_type": "code",
   "execution_count": 5,
   "id": "4c447ba8",
   "metadata": {},
   "outputs": [
    {
     "name": "stdout",
     "output_type": "stream",
     "text": [
      "1024\n",
      "4\n",
      "32\n"
     ]
    }
   ],
   "source": [
    "def pregunta1(n,m):\n",
    "    if m == 0:\n",
    "        return 0\n",
    "    if n == 0:\n",
    "        return (2*m);\n",
    "    if m == 1:\n",
    "        return 2\n",
    "    else:\n",
    "        return pregunta1(n-1,pregunta1(n,m-1))\n",
    "    \n",
    "print(pregunta1(1,10))\n",
    "\n",
    "print(pregunta1(1,2))\n",
    "print(pregunta1(1,5))"
   ]
  },
  {
   "cell_type": "markdown",
   "id": "796341df",
   "metadata": {},
   "source": [
    "## Pregunta 2"
   ]
  },
  {
   "cell_type": "code",
   "execution_count": 2,
   "id": "2944e6c6",
   "metadata": {},
   "outputs": [
    {
     "name": "stdout",
     "output_type": "stream",
     "text": [
      "4\n",
      "9\n",
      "106\n"
     ]
    }
   ],
   "source": [
    "def pregunta2(n):\n",
    "    if n == 1:\n",
    "        return 0\n",
    "    if (n%2) == 0:\n",
    "        return pregunta2(n/2) +1\n",
    "    else:\n",
    "        return pregunta2(1+ (3*n)) + 1\n",
    "\n",
    "    \n",
    "print(pregunta2(16))  \n",
    "print(pregunta2(12))    \n",
    "print(pregunta2(31))"
   ]
  },
  {
   "cell_type": "markdown",
   "id": "296e672a",
   "metadata": {},
   "source": [
    "## Pregunta 2 Iterativo"
   ]
  },
  {
   "cell_type": "code",
   "execution_count": 6,
   "id": "07eeec07",
   "metadata": {},
   "outputs": [
    {
     "name": "stdout",
     "output_type": "stream",
     "text": [
      "\n",
      "Pregunta 2 Iterativo\n",
      "4\n",
      "9\n",
      "106\n"
     ]
    }
   ],
   "source": [
    "def pregunta2_iter(i,n):\n",
    "    if n == 1:\n",
    "        return i\n",
    "    if (n%2)==0:\n",
    "        return pregunta2_iter(i+1,n/2)\n",
    "    else:\n",
    "        return pregunta2_iter(i+1,1+(3*n))\n",
    "    \n",
    "\n",
    "def pregunta2(n):\n",
    "    return pregunta2_iter(0,n)\n",
    "\n",
    "\n",
    "\n",
    "print(pregunta2(16))\n",
    "print(pregunta2(12))\n",
    "print(pregunta2(31))\n",
    "               "
   ]
  },
  {
   "cell_type": "markdown",
   "id": "1c58260c",
   "metadata": {},
   "source": [
    "## Pregunta 3"
   ]
  },
  {
   "cell_type": "code",
   "execution_count": 7,
   "id": "2430382f",
   "metadata": {},
   "outputs": [
    {
     "name": "stdout",
     "output_type": "stream",
     "text": [
      "-9\n",
      "118711\n",
      "-38916\n"
     ]
    }
   ],
   "source": [
    "def pregunta3(n):\n",
    "    if n == 0 :\n",
    "        return 1\n",
    "    if n  == 1:\n",
    "        return 0\n",
    "    if n  ==  2:\n",
    "        return -1\n",
    "    else:\n",
    "        return (2*pregunta3(n-1) - (7 * pregunta3(n-2)) - 6*pregunta3(n-3))\n",
    "    \n",
    "    \n",
    "\n",
    "print(pregunta3(4))\n",
    "print(pregunta3(12))\n",
    "print(pregunta3(13))\n"
   ]
  },
  {
   "cell_type": "markdown",
   "id": "34197271",
   "metadata": {},
   "source": [
    "## Pregunta 3 Iterativo"
   ]
  },
  {
   "cell_type": "code",
   "execution_count": 8,
   "id": "d0f68d87",
   "metadata": {},
   "outputs": [
    {
     "name": "stdout",
     "output_type": "stream",
     "text": [
      "-9\n",
      "118711\n",
      "-38916\n"
     ]
    }
   ],
   "source": [
    "def pregunta3_iter_wrapper(n):\n",
    "    return  pregunta3iter(0, -1, 1, 1,n)\n",
    "\n",
    "\n",
    "\n",
    "def pregunta3iter(ant,res,transante,i,n):\n",
    "    if i >= n:\n",
    "        return ant\n",
    "    else:\n",
    "        return pregunta3iter(res,((2*res) - (7*ant) - (6*transante)),ant,(i+1),n )\n",
    "    \n",
    "    \n",
    "print(pregunta3_iter_wrapper(4))   \n",
    "print(pregunta3_iter_wrapper(12))  \n",
    "print(pregunta3_iter_wrapper(13))   "
   ]
  },
  {
   "cell_type": "markdown",
   "id": "b57451f2",
   "metadata": {},
   "source": [
    "## Pregunta 4 Normal"
   ]
  },
  {
   "cell_type": "code",
   "execution_count": 9,
   "id": "13c61a87",
   "metadata": {},
   "outputs": [
    {
     "name": "stdout",
     "output_type": "stream",
     "text": [
      "1089\n",
      "217157034590001\n",
      "1289990263734328689\n"
     ]
    }
   ],
   "source": [
    "def productoria_normal(a, n):\n",
    "  if(a  > n):\n",
    "    return (1)\n",
    "  \n",
    "  else:\n",
    "    return ((((7 * a) + ( a* a* a) - 11)  *  ((7 * a) + ( a* a* a) - 11) ) * (productoria_normal ((a + 1),n )))\n",
    "  \n",
    "\n",
    "print(productoria_normal(1,2))\n",
    "print(productoria_normal(1,5))\n",
    "print(productoria_normal(4,7))\n"
   ]
  },
  {
   "cell_type": "markdown",
   "id": "c4d36287",
   "metadata": {},
   "source": [
    "## Pregunta 4 Termino"
   ]
  },
  {
   "cell_type": "code",
   "execution_count": 10,
   "id": "65b8bf9b",
   "metadata": {},
   "outputs": [
    {
     "name": "stdout",
     "output_type": "stream",
     "text": [
      "1089\n",
      "217157034590001\n",
      "1289990263734328689\n"
     ]
    }
   ],
   "source": [
    "def cuadrado(a):\n",
    "  return(a*a)\n",
    "\n",
    "def cubo(a):\n",
    "  return(a*a*a)\n",
    "\n",
    "def productoria(f,a,n):\n",
    "  if(a>n):\n",
    "    return (1)\n",
    "  else:\n",
    "    return(f(a)*productoria(f,(a+1),n))\n",
    "  \n",
    "\n",
    "\n",
    "def termino(n):\n",
    "  return (cuadrado(cubo(n)+(7*n)-11))\n",
    "\n",
    "\n",
    "def productoria_termino(a, n):\n",
    "  return (productoria(termino,a,n))\n",
    "\n",
    "\n",
    "print(productoria_termino(1,2))\n",
    "print(productoria_termino(1,5))\n",
    "print(productoria_termino(4,7))"
   ]
  },
  {
   "cell_type": "markdown",
   "id": "f93e26f4",
   "metadata": {},
   "source": [
    "## Pregunta 4 Lambda"
   ]
  },
  {
   "cell_type": "code",
   "execution_count": 11,
   "id": "b7cc9acf",
   "metadata": {},
   "outputs": [
    {
     "name": "stdout",
     "output_type": "stream",
     "text": [
      "1089\n",
      "217157034590001\n",
      "1289990263734328689\n"
     ]
    }
   ],
   "source": [
    "def productoria_lambda(a,n):\n",
    "    return productoria(lambda x: cuadrado(cubo(x)+(7*x)-11),a,n)\n",
    "\n",
    "\n",
    "print(productoria_lambda(1,2))\n",
    "print(productoria_lambda(1,5))\n",
    "print(productoria_lambda(4,7))"
   ]
  },
  {
   "cell_type": "markdown",
   "id": "f5abd7bc",
   "metadata": {},
   "source": [
    "## Pregunta 5"
   ]
  },
  {
   "cell_type": "code",
   "execution_count": 13,
   "id": "d148f5cf",
   "metadata": {},
   "outputs": [
    {
     "name": "stdout",
     "output_type": "stream",
     "text": [
      "Abundante\n",
      "Defectivo\n",
      "Perfecto\n"
     ]
    }
   ],
   "source": [
    "def es_factor(x, k):\n",
    "  if((x %k) == 0):\n",
    "    return (True)\n",
    "  \n",
    "  return (False)\n",
    "  \n",
    "\n",
    "def suma_factores(x,k):\n",
    "  if(k > ((x/2)+1)):\n",
    "    return (0)\n",
    "  \n",
    "  else:\n",
    "    if(es_factor(x,k)):\n",
    "      return (k + suma_factores(x,(k+1)))\n",
    "    \n",
    "    else:\n",
    "      return (suma_factores(x,(k+1)))\n",
    "      \n",
    "\n",
    "def clasificacion(n):\n",
    "  if(suma_factores(n,1) == n):\n",
    "    print(\"Perfecto\")\n",
    "  \n",
    "  else:\n",
    "    if(suma_factores(n,1) > n):\n",
    "      print(\"Abundante\")\n",
    "    \n",
    "    else:\n",
    "      print(\"Defectivo\")\n",
    "\n",
    "clasificacion(12)\n",
    "clasificacion(10)\n",
    "clasificacion(6)"
   ]
  },
  {
   "cell_type": "markdown",
   "id": "1f0ce77c",
   "metadata": {},
   "source": [
    "## Pregunta 6"
   ]
  },
  {
   "cell_type": "code",
   "execution_count": 14,
   "id": "1bc00fde",
   "metadata": {},
   "outputs": [
    {
     "name": "stdout",
     "output_type": "stream",
     "text": [
      "6\n",
      "0\n",
      "4\n"
     ]
    }
   ],
   "source": [
    "from cons import cons, car, cdr\n",
    "\n",
    "def porcen_vector(lista, n):\n",
    "  if(len(lista) == 0):\n",
    "    return (0)\n",
    "  \n",
    "  else:\n",
    "    if(car(lista) <= n):\n",
    "      return(1 + porcen_vector(cdr(lista),n ) )\n",
    "    \n",
    "    else:\n",
    "      return (porcen_vector(cdr(lista),n))\n",
    "\n",
    "\n",
    "print(porcen_vector([3, 3, 3, 3 ,3 ,3 ,10 ,10,10 ,10],3))\n",
    "print(porcen_vector([2, 2, 3, 4 ,5 ,6 ,10 ,10,10 ,10],1))\n",
    "print(porcen_vector([1,2,3,4,5,6],4))\n"
   ]
  },
  {
   "cell_type": "markdown",
   "id": "24d04c6a",
   "metadata": {},
   "source": [
    "## Pregunta 7 a"
   ]
  },
  {
   "cell_type": "code",
   "execution_count": 15,
   "id": "51d8b63d",
   "metadata": {},
   "outputs": [],
   "source": [
    "def aplica_fun(fun ,lista):\n",
    "  if(len(lista)== 0):\n",
    "    return (0)\n",
    "  \n",
    "  else:\n",
    "    return (list(fun(car(lista))),aplica_fun(fun,cdr(lista)))\n",
    "\n"
   ]
  },
  {
   "cell_type": "markdown",
   "id": "cd22cc32",
   "metadata": {},
   "source": [
    "## Pregunta 7 c"
   ]
  },
  {
   "cell_type": "code",
   "execution_count": 16,
   "id": "b26b08ea",
   "metadata": {},
   "outputs": [
    {
     "name": "stdout",
     "output_type": "stream",
     "text": [
      "[1, 2, 3, 4, 5, 6]\n",
      "[1, 2, 2, 2, 3, 4, 5, 6]\n",
      "[1, 2, 2, 2, 3, 4, 5, 6, 7, 8, 9]\n"
     ]
    }
   ],
   "source": [
    "def pega_dos_listas(lista1,l2):\n",
    "  \n",
    "  if not lista1:\n",
    "      return (l2)\n",
    "  else:\n",
    "    return cons(car(lista1),pega_dos_listas(cdr(lista1),l2))\n",
    "\n",
    "\n",
    "def pega_tres_listas(lista1,lista2,lista3):\n",
    "  return (pega_dos_listas(lista1,pega_dos_listas(lista2,lista3)))\n",
    "\n",
    "\n",
    "\n",
    "l = pega_tres_listas([1,2],[3,4],[5,6])\n",
    "print(l)\n",
    "l = pega_tres_listas([1,2,2,2],[3,4],[5,6])\n",
    "print(l)\n",
    "l = pega_tres_listas([1,2,2,2],[3,4],[5,6,7,8,9])\n",
    "print(l)"
   ]
  },
  {
   "cell_type": "code",
   "execution_count": null,
   "id": "d512fb28",
   "metadata": {},
   "outputs": [],
   "source": [
    "## Pregunta 7 d"
   ]
  },
  {
   "cell_type": "code",
   "execution_count": 17,
   "id": "0ae0056d",
   "metadata": {},
   "outputs": [
    {
     "name": "stdout",
     "output_type": "stream",
     "text": [
      "True\n",
      "False\n",
      "False\n"
     ]
    }
   ],
   "source": [
    "def subconjunto(l1,l2):\n",
    "    if not l1 :\n",
    "        return True\n",
    "    if not l2:\n",
    "        return False\n",
    "    if car(l1) == car(l2):\n",
    "        return subconjunto(cdr(l1),cdr(l2))\n",
    "    else:\n",
    "        return subconjunto(l1 ,cdr (l2))\n",
    "    \n",
    "    \n",
    "print(subconjunto([1,2,3],[5 ,1 ,2 ,8 ,7 ,3 ,9]))    \n",
    "print(subconjunto([1,2,3],[5 ,1 ,8 ,7 ,3 ,9]))    \n",
    "print(subconjunto([6 ,8, 7 ,1, 3 ,9],[5 ,1 ,3 ,9]))  "
   ]
  },
  {
   "cell_type": "markdown",
   "id": "cd690c04",
   "metadata": {},
   "source": [
    "## Pregunta 7 e"
   ]
  },
  {
   "cell_type": "code",
   "execution_count": 18,
   "id": "43ebd996",
   "metadata": {},
   "outputs": [
    {
     "name": "stdout",
     "output_type": "stream",
     "text": [
      "[9, 8, 7, 6, 4, 3, 2, 1]\n",
      "[9, 8, 7, 6, 5, 4, 3, 2]\n",
      "[8, 7, 6, 5, 4, 3, 2, 1]\n"
     ]
    }
   ],
   "source": [
    "def eliminar(n,lista):\n",
    "    if n in lista:\n",
    "        lista.remove(n)\n",
    "        return lista\n",
    "    return lista\n",
    "\n",
    "print(eliminar(5,[ 9 ,8, 7, 6, 5, 4, 3, 2, 1]))\n",
    "print(eliminar(1,[ 9 ,8, 7, 6, 5, 4, 3, 2, 1]))\n",
    "print(eliminar(9,[ 9 ,8, 7, 6, 5, 4, 3, 2, 1]))"
   ]
  },
  {
   "cell_type": "markdown",
   "id": "63880537",
   "metadata": {},
   "source": [
    "## Pregunta 8 "
   ]
  },
  {
   "cell_type": "code",
   "execution_count": 24,
   "id": "81ad2672",
   "metadata": {},
   "outputs": [],
   "source": [
    "def imprimecom(c):\n",
    "    print(\"\")\n",
    "    print(\"\"+str(parte_real(c))+\" + \"+str(parte_compleja(c))+\"i\")\n",
    "\n",
    "    print(\"\")\n"
   ]
  },
  {
   "cell_type": "markdown",
   "id": "9f1bb8cd",
   "metadata": {},
   "source": [
    "## Pregunta 8 a"
   ]
  },
  {
   "cell_type": "code",
   "execution_count": 26,
   "id": "72735924",
   "metadata": {},
   "outputs": [
    {
     "name": "stdout",
     "output_type": "stream",
     "text": [
      "\n",
      "0 + -2i\n",
      "\n",
      "\n",
      "-10 + 0i\n",
      "\n",
      "\n",
      "-8 + -12i\n",
      "\n"
     ]
    }
   ],
   "source": [
    "\n",
    "def complejo (a, b ):\n",
    "  return cons (a ,b)\n",
    "\n",
    "\n",
    "def parte_real(c):\n",
    "    return car(c)\n",
    "\n",
    "def parte_compleja(c):\n",
    "    return cdr(c)\n",
    "\n",
    "\n",
    "def suma_com(c1,c2):\n",
    "    return complejo( parte_real(c1)+ parte_real(c2),parte_compleja(c1) + parte_compleja(c2))\n",
    "\n",
    "imprimecom(suma_com(complejo(4,8),complejo(-4,-10)))\n",
    "imprimecom(suma_com(complejo(-4,12),complejo(-6,-12)))\n",
    "imprimecom(suma_com(complejo(-4,0),complejo(-4,-12)))"
   ]
  },
  {
   "cell_type": "markdown",
   "id": "b99c0757",
   "metadata": {},
   "source": [
    "## Pregunta 8 b"
   ]
  },
  {
   "cell_type": "code",
   "execution_count": 27,
   "id": "9c80fb18",
   "metadata": {},
   "outputs": [
    {
     "name": "stdout",
     "output_type": "stream",
     "text": [
      "\n",
      "8 + 18i\n",
      "\n",
      "\n",
      "2 + 24i\n",
      "\n",
      "\n",
      "0 + 12i\n",
      "\n"
     ]
    }
   ],
   "source": [
    "def res_com(a,b):\n",
    "    return complejo(parte_real(a) - parte_real(b),parte_compleja(a)- parte_compleja(b))\n",
    "imprimecom(res_com(complejo(4,8),complejo(-4,-10)))\n",
    "imprimecom(res_com(complejo(-4,12),complejo(-6,-12)))\n",
    "imprimecom(res_com(complejo(-4,0),complejo(-4,-12)))"
   ]
  },
  {
   "cell_type": "markdown",
   "id": "ec4151b0",
   "metadata": {},
   "source": [
    "## Pregunta 8 c"
   ]
  },
  {
   "cell_type": "code",
   "execution_count": 28,
   "id": "cf317a64",
   "metadata": {},
   "outputs": [
    {
     "name": "stdout",
     "output_type": "stream",
     "text": [
      "\n",
      "64 + -72i\n",
      "\n",
      "\n",
      "168 + -24i\n",
      "\n",
      "\n",
      "16 + 48i\n",
      "\n"
     ]
    }
   ],
   "source": [
    "def mul_com(a,b):\n",
    "    return complejo(parte_real(a) * parte_real(b) - parte_compleja(a)*parte_compleja(b),\n",
    "                    parte_real(a) * parte_compleja(b) + parte_compleja(a) * parte_real(b))\n",
    "\n",
    "\n",
    "imprimecom(mul_com(complejo(4,8),complejo(-4,-10)))\n",
    "imprimecom(mul_com(complejo(-4,12),complejo(-6,-12)))\n",
    "imprimecom(mul_com(complejo(-4,0),complejo(-4,-12)))\n"
   ]
  },
  {
   "cell_type": "markdown",
   "id": "1630f5e7",
   "metadata": {},
   "source": [
    "## Pregunta 8 d"
   ]
  },
  {
   "cell_type": "code",
   "execution_count": 29,
   "id": "00476024",
   "metadata": {},
   "outputs": [
    {
     "name": "stdout",
     "output_type": "stream",
     "text": [
      "\n",
      "4 + -12i\n",
      "\n",
      "\n",
      "-4 + -12i\n",
      "\n",
      "\n",
      "-4 + 12i\n",
      "\n"
     ]
    }
   ],
   "source": [
    "def conjugado(a):\n",
    "    return complejo(parte_real(a),-1 * parte_compleja(a))\n",
    "\n",
    "\n",
    "imprimecom(conjugado(complejo(4,12)))\n",
    "imprimecom(conjugado(complejo(-4,12)))\n",
    "imprimecom(conjugado(complejo(-4,-12)))"
   ]
  },
  {
   "cell_type": "markdown",
   "id": "a03cb6f6",
   "metadata": {},
   "source": [
    "## Pregunta 9 "
   ]
  },
  {
   "cell_type": "code",
   "execution_count": 31,
   "id": "7c0ad092",
   "metadata": {},
   "outputs": [
    {
     "name": "stdout",
     "output_type": "stream",
     "text": [
      "[[8, 6, 4, 2], 9, 7, 5, 3]\n",
      "[[12, 8, 6, 4, 10, 2], 7, 5]\n",
      "[[8, 6, 2], 9, 7, 3]\n"
     ]
    }
   ],
   "source": [
    "def divisibles_iter(lista,x,si,no):\n",
    "    if not lista :\n",
    "        return cons(si,no)\n",
    "    else:\n",
    "        if (car(lista)%x) == 0:\n",
    "            return divisibles_iter(cdr(lista),x,(cons(car(lista),si)),no)\n",
    "        else:\n",
    "            return divisibles_iter(cdr(lista),x,si,cons(car(lista),no))\n",
    "        \n",
    "    \n",
    "def divisibles(lista,x): \n",
    "    return divisibles_iter(lista,x,list(),list())\n",
    "\n",
    "print(divisibles([2,3,4,5,6,7,8,9],2))\n",
    "print(divisibles([2,10,4,5,6,7,8,12],2))\n",
    "print(divisibles([2,3,6,7,8,9],2))"
   ]
  },
  {
   "cell_type": "markdown",
   "id": "5897cc78",
   "metadata": {},
   "source": [
    "## Pregunta 10"
   ]
  },
  {
   "cell_type": "code",
   "execution_count": 32,
   "id": "d3d947dc",
   "metadata": {},
   "outputs": [
    {
     "name": "stdout",
     "output_type": "stream",
     "text": [
      "True\n",
      "False\n",
      "True\n"
     ]
    }
   ],
   "source": [
    "def per(n,l):\n",
    "    if not l:\n",
    "        return False\n",
    "    else:\n",
    "        if n == car(l):\n",
    "            return True\n",
    "        else:\n",
    "            return per(n,cdr(l))\n",
    "        \n",
    "        \n",
    "        \n",
    "print(per(1,[1,2,3,4,5,6]))\n",
    "print(per(10,[1,2,3,4,5,6]))\n",
    "print(per(6,[1,2,3,4,5,6]))\n"
   ]
  },
  {
   "cell_type": "markdown",
   "id": "157fb933",
   "metadata": {},
   "source": [
    "## Pregunta 10 b"
   ]
  },
  {
   "cell_type": "code",
   "execution_count": 33,
   "id": "f5127a82",
   "metadata": {},
   "outputs": [
    {
     "name": "stdout",
     "output_type": "stream",
     "text": [
      "[7, 3, 2, 2, 6]\n",
      "[4, 4, 4, 6]\n",
      "[7, 1, 4, 3, 2, 4, 2, 4, 6]\n"
     ]
    }
   ],
   "source": [
    "def restalistas(l1,l2):\n",
    "    if not l1:\n",
    "        return list()\n",
    "    if per(car(l1),l2):\n",
    "        return restalistas(cdr(l1),l2)\n",
    "    return cons(car(l1), restalistas(cdr(l1),l2))\n",
    "        \n",
    "\n",
    "print(restalistas([7 ,1 ,4 ,3 ,2 ,4 ,2 ,4 ,6],[5,1,4]))\n",
    "print(restalistas([7 ,1 ,4 ,3 ,2 ,4 ,2 ,4 ,6],[1 ,7, 3, 2]))\n",
    "print(restalistas([7 ,1 ,4 ,3 ,2 ,4 ,2 ,4 ,6],[5,5,5,5]))\n"
   ]
  },
  {
   "cell_type": "markdown",
   "id": "79b07b9e",
   "metadata": {},
   "source": [
    "## Pregunta 11"
   ]
  },
  {
   "cell_type": "code",
   "execution_count": 34,
   "id": "81bc0633",
   "metadata": {},
   "outputs": [
    {
     "name": "stdout",
     "output_type": "stream",
     "text": [
      "[[7, 5], [1, 1], [4, 4], [3, -1]]\n",
      "[[7, 5], [1, 1], [4, 4], [3, -9], [1, 0]]\n",
      "[[7, 5], [1, 0]]\n"
     ]
    }
   ],
   "source": [
    "def pares(l1,l2):\n",
    "    if len(l1) != len(l2):\n",
    "        return list()\n",
    "    if not l1:\n",
    "        return list()\n",
    "    else:\n",
    "        return cons([car(l1),car(l2)],pares(cdr(l1),cdr(l2)))\n",
    "        \n",
    "print(pares([7,1,4,3],[5,1,4,-1]))\n",
    "print(pares([7,1,4,3,1],[5,1,4,-9,0]))\n",
    "print(pares([7,1],[5,0]))"
   ]
  },
  {
   "cell_type": "markdown",
   "id": "ad85b9fe",
   "metadata": {},
   "source": [
    "## Pregunta 12"
   ]
  },
  {
   "cell_type": "code",
   "execution_count": 35,
   "id": "8549b427",
   "metadata": {},
   "outputs": [
    {
     "name": "stdout",
     "output_type": "stream",
     "text": [
      "[2, 2, 3, 5]\n",
      "[2, 3, 5]\n",
      "[3, 3, 3, 5]\n"
     ]
    }
   ],
   "source": [
    "def factores(n):\n",
    "    return factores_fun(n,2)\n",
    "\n",
    "def factores_fun(n,k):\n",
    "    if k > n:\n",
    "        return list()\n",
    "    if (n%k) == 0:\n",
    "        return cons(k,factores_fun((n/k),k))\n",
    "    else:\n",
    "        return factores_fun(n,k+1)\n",
    "\n",
    "\n",
    "print(factores(60))\n",
    "print(factores(30))\n",
    "print(factores(135))\n",
    "\n"
   ]
  },
  {
   "cell_type": "markdown",
   "id": "7ddc972d",
   "metadata": {},
   "source": [
    "## Pregunta 13"
   ]
  },
  {
   "cell_type": "code",
   "execution_count": 36,
   "id": "ba47b4e1",
   "metadata": {},
   "outputs": [
    {
     "name": "stdout",
     "output_type": "stream",
     "text": [
      "[5, 50, 100, 200, 200]\n",
      "[1, 1, 1, 5, 50, 100, 200, 200, 200]\n",
      "[1, 10, 25, 200, 200, 200, 200, 200, 200]\n"
     ]
    }
   ],
   "source": [
    "def es_menor(x,y):\n",
    "    return x < y\n",
    "\n",
    "def vuelto(n):\n",
    "   return vuelto_iter(n , [200,100,50,25,10,5,1],list())\n",
    "\n",
    "def vuelto_iter(x,l,r):\n",
    "    if x <= 0 :\n",
    "        return r\n",
    "    else:\n",
    "            if es_menor(x,car(l)):\n",
    "                return vuelto_iter(x,cdr(l),r)\n",
    "            else:\n",
    "                return vuelto_iter(x-car(l),l,cons(car(l),r))\n",
    "\n",
    "\n",
    "\n",
    "\n",
    "print(vuelto(555))\n",
    "print(vuelto(758))\n",
    "print(vuelto(1236))\n"
   ]
  },
  {
   "cell_type": "code",
   "execution_count": null,
   "id": "f2ab1575",
   "metadata": {},
   "outputs": [],
   "source": []
  }
 ],
 "metadata": {
  "kernelspec": {
   "display_name": "Python 3 (ipykernel)",
   "language": "python",
   "name": "python3"
  },
  "language_info": {
   "codemirror_mode": {
    "name": "ipython",
    "version": 3
   },
   "file_extension": ".py",
   "mimetype": "text/x-python",
   "name": "python",
   "nbconvert_exporter": "python",
   "pygments_lexer": "ipython3",
   "version": "3.8.8"
  }
 },
 "nbformat": 4,
 "nbformat_minor": 5
}
