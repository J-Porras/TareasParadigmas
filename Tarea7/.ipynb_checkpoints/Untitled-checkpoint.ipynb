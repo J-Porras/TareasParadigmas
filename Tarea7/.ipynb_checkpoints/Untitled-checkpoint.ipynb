{
 "cells": [
  {
   "cell_type": "markdown",
   "id": "04ff3e32",
   "metadata": {},
   "source": [
    "# Tarea 7 Jose Porras Muñoz"
   ]
  },
  {
   "cell_type": "markdown",
   "id": "1d362b6a",
   "metadata": {},
   "source": [
    "## Pregunta 1"
   ]
  },
  {
   "cell_type": "code",
   "execution_count": 3,
   "id": "bf612597",
   "metadata": {},
   "outputs": [
    {
     "name": "stdout",
     "output_type": "stream",
     "text": [
      "81002.0\n",
      "720\n",
      "3.5849625007211565\n",
      "1.7323937598229684\n",
      "1.499335485074602\n"
     ]
    }
   ],
   "source": [
    "\n",
    "r = abs((2-pow(5,4)*(12/5)*(-42-6*2)))\n",
    "print(r)\n",
    "r=math.factorial(6)\n",
    "print(r)\n",
    "r = math.log(12,2)\n",
    "print(r)\n",
    "r= math.log(54,10)\n",
    "print(r)\n",
    "r = pow(math.e,0.405022)\n",
    "print(r)"
   ]
  },
  {
   "cell_type": "markdown",
   "id": "44fff75d",
   "metadata": {},
   "source": [
    "## Pregunta 2\n"
   ]
  },
  {
   "cell_type": "code",
   "execution_count": 4,
   "id": "3489fda4",
   "metadata": {},
   "outputs": [
    {
     "name": "stdout",
     "output_type": "stream",
     "text": [
      "303.2597381164639\n"
     ]
    }
   ],
   "source": [
    "x = -76\n",
    "y = 2*math.pi + 1\n",
    "z = (math.sqrt(12*pow(y,3)+4*pow(x,2)))/4*y\n",
    "print(z)"
   ]
  },
  {
   "cell_type": "markdown",
   "id": "19caaa11",
   "metadata": {},
   "source": [
    "## Pregunta 3"
   ]
  },
  {
   "cell_type": "code",
   "execution_count": 5,
   "id": "2dbc964f",
   "metadata": {},
   "outputs": [
    {
     "name": "stdout",
     "output_type": "stream",
     "text": [
      "Impar\n",
      "Par\n",
      "Impar\n"
     ]
    }
   ],
   "source": [
    "\n",
    "print(\"Par\" if 21%2 == 0 else \"Impar\")\n",
    "print(\"Par\" if 134%2 == 0 else \"Impar\")\n",
    "print(\"Par\" if 89%2 == 0 else \"Impar\")"
   ]
  },
  {
   "cell_type": "markdown",
   "id": "4f9ae87d",
   "metadata": {},
   "source": [
    "## Pregunta 4"
   ]
  },
  {
   "cell_type": "code",
   "execution_count": 6,
   "id": "495be5ae",
   "metadata": {},
   "outputs": [
    {
     "name": "stdout",
     "output_type": "stream",
     "text": [
      "Hoy es miercoles\n",
      "Hoy es lunes\n",
      "El numero debe estar entre 1 y 7\n"
     ]
    }
   ],
   "source": [
    "def diaSemana(num):\n",
    "    if num > 7 or num < 1 :\n",
    "        print(\"El numero debe estar entre 1 y 7\")\n",
    "    elif num == 1:\n",
    "        print(\"Hoy es domingo\")\n",
    "    elif num == 2:\n",
    "        print(\"Hoy es lunes\")\n",
    "    elif num == 3:\n",
    "        print(\"Hoy es martes\")\n",
    "    elif num == 4:\n",
    "        print(\"Hoy es miercoles\")\n",
    "    elif num == 5:\n",
    "        print(\"Hoy es jueves\")\n",
    "    elif num == 6:\n",
    "        print(\"Hoy es viernes\")\n",
    "    elif num == 7:\n",
    "        print(\"Hoy es sabado\")\n",
    "        \n",
    "diaSemana(4)        \n",
    "diaSemana(2)        \n",
    "diaSemana(9)        "
   ]
  },
  {
   "cell_type": "markdown",
   "id": "3abb4843",
   "metadata": {},
   "source": [
    "## Pregunta 5"
   ]
  },
  {
   "cell_type": "code",
   "execution_count": 7,
   "id": "7c73361a",
   "metadata": {},
   "outputs": [
    {
     "name": "stdout",
     "output_type": "stream",
     "text": [
      "La ecuacion posee dos soluciones\n",
      "Soluciones: 38.18376618407356 -38.18376618407356\n",
      "Ecuacion degenerada\n",
      "La ecuacion posee dos soluciones\n",
      "Soluciones: 4.0 4.0\n"
     ]
    }
   ],
   "source": [
    "def solCuadratica(a,b,c):\n",
    "    if not a:\n",
    "        print(\"Ecuacion degenerada\")\n",
    "    else:\n",
    "        discriminante =pow(b,2)+4*a*c\n",
    "        if discriminante < 0:\n",
    "            print(\"La ecuacion no posee soluciones reales\")\n",
    "        elif not discriminante:\n",
    "             print(\"La ecuacion posee una solucion\")\n",
    "             print(\"Sol: \",(-b+math.sqrt((-pow(b,2))+4*a*c))/2*a)\n",
    "        elif discriminante > 0:\n",
    "            \n",
    "            print(\"La ecuacion posee dos soluciones\")\n",
    "            discriminanteP = (-b+math.sqrt((-pow(b,2))+4*a*c))/2*a\n",
    "            disriminanteN = (-b-math.sqrt((-pow(b,2))+4*a*c))/2*a\n",
    "            print(\"Soluciones: \"+ str(discriminanteP) + \" \" + str(disriminanteN))\n",
    "            \n",
    "\n",
    "solCuadratica(9, 0, 2) \n",
    "solCuadratica(0, -2, 3) \n",
    "solCuadratica(2, -4, 2) "
   ]
  },
  {
   "cell_type": "markdown",
   "id": "b958592d",
   "metadata": {},
   "source": [
    "## Pregunta 6"
   ]
  },
  {
   "cell_type": "code",
   "execution_count": 8,
   "id": "eb0838fe",
   "metadata": {},
   "outputs": [
    {
     "name": "stdout",
     "output_type": "stream",
     "text": [
      "Media : 27.97776840357059\n",
      "Varianza:  1154.5\n",
      "Desviacion Estandar:  33.97793401606401\n",
      "Ultimos 4:  [101, 22, 96, 13]\n",
      "Maximo:  101\n",
      "Suma del vector:  545\n",
      "Lista invertida:  [13, 96, 22, 101, 8, 67, 50, 72, 35, 81]\n"
     ]
    }
   ],
   "source": [
    "vec = [81, 35, 72, 50, 67, 8, 101, 22, 96, 13]\n",
    "\n",
    "print(\"Media :\",statistics.harmonic_mean(vec))\n",
    "print(\"Varianza: \",statistics.variance(vec))\n",
    "print(\"Desviacion Estandar: \",statistics.stdev(vec))\n",
    "print(\"Ultimos 4: \",vec[-4:])\n",
    "print(\"Maximo: \",max(vec)) \n",
    "print(\"Suma del vector: \",sum(vec))\n",
    "vecInv = vec.reverse()\n",
    "print(\"Lista invertida: \",vec)"
   ]
  },
  {
   "cell_type": "markdown",
   "id": "f8c7d824",
   "metadata": {},
   "source": [
    "## Pregunta 7"
   ]
  },
  {
   "cell_type": "code",
   "execution_count": 3,
   "id": "b435c676",
   "metadata": {},
   "outputs": [
    {
     "name": "stdout",
     "output_type": "stream",
     "text": [
      "Operacion de matriz\n",
      "[[-347  103 -164]\n",
      " [ -22 -399  173]]\n"
     ]
    }
   ],
   "source": [
    "\n",
    "matriz1= numpy.array([[-7,1,6],[12,9,3]])\n",
    "matriz2= numpy.array([[-10,-1],[3,-12],[-5,5]])\n",
    "\n",
    "print(\"Operacion de matriz\")\n",
    "print(numpy.add(matriz1,numpy.multiply(34,matriz2.T)))"
   ]
  },
  {
   "cell_type": "markdown",
   "id": "21397ffc",
   "metadata": {},
   "source": [
    "## Pregunta 8"
   ]
  },
  {
   "cell_type": "code",
   "execution_count": 4,
   "id": "ce59347a",
   "metadata": {},
   "outputs": [
    {
     "name": "stdout",
     "output_type": "stream",
     "text": [
      "Suma diagonal:  2\n"
     ]
    }
   ],
   "source": [
    "matrizA = numpy.array([[6,7,-5],[1,-8,-6],[10,13,4]])\n",
    "\n",
    "print(\"Suma diagonal: \", numpy.trace(matrizA))"
   ]
  },
  {
   "cell_type": "markdown",
   "id": "a56e8b53",
   "metadata": {},
   "source": [
    "## Pregunta 9"
   ]
  },
  {
   "cell_type": "code",
   "execution_count": 7,
   "id": "e31e9b25",
   "metadata": {},
   "outputs": [
    {
     "name": "stdout",
     "output_type": "stream",
     "text": [
      "   Nombre  Matematicas  Ciencias  Español  Historia  EdFisica Genero\n",
      "0   Lucia          7.0       6.5      9.2       8.6       8.0      F\n",
      "1   Pedro          7.5       9.4      7.3       7.0       7.0      M\n",
      "2    Ines          7.6       9.2      8.0       8.0       7.5      F\n",
      "3    Luis          5.0       6.5      6.5       7.0       9.0      M\n",
      "4  Andres          6.0       6.0      8.7       8.9       7.3      M\n",
      "5     Ana          7.8       9.6      7.7       8.0       6.5      F\n"
     ]
    }
   ],
   "source": [
    "import pandas\n",
    "datanotas = {'Nombre':['Lucia','Pedro','Ines','Luis','Andres','Ana'],\n",
    "             'Matematicas':[7,7.5,7.6,5,6,7.8],\n",
    "             'Ciencias':[6.5,9.4,9.2,6.5,6.0,9.6],\n",
    "             'Español':[9.2,7.3,8.0,6.5,8.7,7.7],\n",
    "             'Historia':[8.6,7,8,7,8.9,8],\n",
    "             'EdFisica':[8,7,7.5,9,7.3,6.5],\n",
    "             'Genero':['F','M','F','M','M','F']}\n",
    "\n",
    "dataframenotas = pandas.DataFrame(datanotas)\n",
    "\n",
    "print(dataframenotas)    "
   ]
  },
  {
   "cell_type": "markdown",
   "id": "6ae1b455",
   "metadata": {},
   "source": [
    "## Pregunta 10"
   ]
  },
  {
   "cell_type": "code",
   "execution_count": 9,
   "id": "cc36ece7",
   "metadata": {},
   "outputs": [
    {
     "name": "stdout",
     "output_type": "stream",
     "text": [
      "Info:\n",
      "<class 'pandas.core.frame.DataFrame'>\n",
      "RangeIndex: 6 entries, 0 to 5\n",
      "Data columns (total 7 columns):\n",
      " #   Column       Non-Null Count  Dtype  \n",
      "---  ------       --------------  -----  \n",
      " 0   Nombre       6 non-null      object \n",
      " 1   Matematicas  6 non-null      float64\n",
      " 2   Ciencias     6 non-null      float64\n",
      " 3   Español      6 non-null      float64\n",
      " 4   Historia     6 non-null      float64\n",
      " 5   EdFisica     6 non-null      float64\n",
      " 6   Genero       6 non-null      object \n",
      "dtypes: float64(5), object(2)\n",
      "memory usage: 464.0+ bytes\n",
      "None\n",
      "\n",
      "Columas\n",
      "   Nombre  Matematicas  Ciencias\n",
      "0   Lucia          7.0       6.5\n",
      "1   Pedro          7.5       9.4\n",
      "2    Ines          7.6       9.2\n",
      "3    Luis          5.0       6.5\n",
      "4  Andres          6.0       6.0\n",
      "5     Ana          7.8       9.6\n",
      " \n",
      "Iloc\n",
      "   Nombre  Matematicas  Ciencias  Español  Historia  EdFisica Genero\n",
      "0   Lucia          7.0       6.5      9.2       8.6       8.0      F\n",
      "1   Pedro          7.5       9.4      7.3       7.0       7.0      M\n",
      "2    Ines          7.6       9.2      8.0       8.0       7.5      F\n",
      "3    Luis          5.0       6.5      6.5       7.0       9.0      M\n",
      "4  Andres          6.0       6.0      8.7       8.9       7.3      M\n",
      "5     Ana          7.8       9.6      7.7       8.0       6.5      F\n",
      " \n",
      "Loc\n",
      "   Nombre  Matematicas  Ciencias  Español  Historia  EdFisica Genero\n",
      "0   Lucia          7.0       6.5      9.2       8.6       8.0      F\n",
      "1   Pedro          7.5       9.4      7.3       7.0       7.0      M\n",
      "2    Ines          7.6       9.2      8.0       8.0       7.5      F\n",
      "3    Luis          5.0       6.5      6.5       7.0       9.0      M\n",
      "4  Andres          6.0       6.0      8.7       8.9       7.3      M\n",
      "5     Ana          7.8       9.6      7.7       8.0       6.5      F\n",
      "\n",
      "Correlacion Ciencias-Español\n",
      "[370.39]\n"
     ]
    }
   ],
   "source": [
    "print(\"Info:\")\n",
    "print(dataframenotas.info())\n",
    "print(\"\")\n",
    "print(\"Columas\")\n",
    "print(dataframenotas[['Nombre','Matematicas','Ciencias']])\n",
    "print(\" \")\n",
    "print(\"Iloc\")\n",
    "print(dataframenotas.iloc[:])\n",
    "print(\" \")\n",
    "print(\"Loc\")\n",
    "print(dataframenotas.loc[:])\n",
    "print(\"\")\n",
    "print(\"Correlacion Ciencias-Español\")   \n",
    "print(numpy.correlate(numpy.ravel(dataframenotas[[\"Ciencias\"]]),numpy.ravel(dataframenotas[[\"Español\"]])))\n",
    "size = numpy.ravel(dataframenotas[[\"Ciencias\"]])"
   ]
  },
  {
   "cell_type": "markdown",
   "id": "eee11522",
   "metadata": {},
   "source": [
    "## Pregunta 11"
   ]
  },
  {
   "cell_type": "code",
   "execution_count": 16,
   "id": "1b82206d",
   "metadata": {},
   "outputs": [
    {
     "name": "stdout",
     "output_type": "stream",
     "text": [
      "     sbp  tobacco    ldl  adiposity  famhist  typea  obesity  alcohol  age chd\n",
      "0    160    12.00   5.73      23.11  Present     49    25.30    97.20   52  Si\n",
      "1    144     0.01   4.41      28.61   Absent     55    28.87     2.06   63  Si\n",
      "2    118     0.08   3.48      32.28  Present     52    29.14     3.81   46  No\n",
      "3    170     7.50   6.41      38.03  Present     51    31.99    24.26   58  Si\n",
      "4    134    13.60   3.50      27.78  Present     60    25.99    57.34   49  Si\n",
      "..   ...      ...    ...        ...      ...    ...      ...      ...  ...  ..\n",
      "457  214     0.40   5.98      31.72   Absent     64    28.45     0.00   58  No\n",
      "458  182     4.20   4.41      32.10   Absent     52    28.61    18.72   52  Si\n",
      "459  108     3.00   1.59      15.23   Absent     40    20.09    26.64   55  No\n",
      "460  118     5.40  11.61      30.79   Absent     64    27.35    23.97   40  No\n",
      "461  132     0.00   4.82      33.41  Present     62    14.70     0.00   46  Si\n",
      "\n",
      "[462 rows x 10 columns]\n",
      "Dimension\n",
      "(462, 10)\n",
      "\n",
      "Suma variables cuantitativas 143736.5\n",
      " \n",
      "Modas de variables cualitativas\n"
     ]
    },
    {
     "ename": "NameError",
     "evalue": "name 'mode' is not defined",
     "output_type": "error",
     "traceback": [
      "\u001b[1;31m---------------------------------------------------------------------------\u001b[0m",
      "\u001b[1;31mNameError\u001b[0m                                 Traceback (most recent call last)",
      "\u001b[1;32mC:\\Users\\ANDRS~1\\AppData\\Local\\Temp/ipykernel_18272/770412713.py\u001b[0m in \u001b[0;36m<module>\u001b[1;34m\u001b[0m\n\u001b[0;32m     23\u001b[0m \u001b[0mprint\u001b[0m\u001b[1;33m(\u001b[0m\u001b[1;34m\" \"\u001b[0m\u001b[1;33m)\u001b[0m\u001b[1;33m\u001b[0m\u001b[1;33m\u001b[0m\u001b[0m\n\u001b[0;32m     24\u001b[0m \u001b[0mprint\u001b[0m\u001b[1;33m(\u001b[0m\u001b[1;34m\"Modas de variables cualitativas\"\u001b[0m\u001b[1;33m)\u001b[0m\u001b[1;33m\u001b[0m\u001b[1;33m\u001b[0m\u001b[0m\n\u001b[1;32m---> 25\u001b[1;33m \u001b[0mprint\u001b[0m\u001b[1;33m(\u001b[0m\u001b[0mmoda\u001b[0m\u001b[1;33m(\u001b[0m\u001b[0mdfheart\u001b[0m\u001b[1;33m)\u001b[0m\u001b[1;33m)\u001b[0m\u001b[1;33m\u001b[0m\u001b[1;33m\u001b[0m\u001b[0m\n\u001b[0m",
      "\u001b[1;32mC:\\Users\\ANDRS~1\\AppData\\Local\\Temp/ipykernel_18272/770412713.py\u001b[0m in \u001b[0;36mmoda\u001b[1;34m(dataf)\u001b[0m\n\u001b[0;32m     18\u001b[0m     \u001b[1;32mfor\u001b[0m \u001b[0mcol\u001b[0m \u001b[1;32min\u001b[0m \u001b[0mdataf\u001b[0m\u001b[1;33m:\u001b[0m\u001b[1;33m\u001b[0m\u001b[1;33m\u001b[0m\u001b[0m\n\u001b[0;32m     19\u001b[0m         \u001b[1;32mif\u001b[0m \u001b[0mdataf\u001b[0m\u001b[1;33m[\u001b[0m\u001b[0mcol\u001b[0m\u001b[1;33m]\u001b[0m\u001b[1;33m.\u001b[0m\u001b[0mdtypes\u001b[0m \u001b[1;33m==\u001b[0m \u001b[1;34m'object'\u001b[0m\u001b[1;33m:\u001b[0m\u001b[1;33m\u001b[0m\u001b[1;33m\u001b[0m\u001b[0m\n\u001b[1;32m---> 20\u001b[1;33m             \u001b[0mmodas\u001b[0m\u001b[1;33m.\u001b[0m\u001b[0mappend\u001b[0m\u001b[1;33m(\u001b[0m\u001b[0mmode\u001b[0m\u001b[1;33m(\u001b[0m\u001b[0mdataf\u001b[0m\u001b[1;33m[\u001b[0m\u001b[0mcol\u001b[0m\u001b[1;33m]\u001b[0m\u001b[1;33m)\u001b[0m\u001b[1;33m)\u001b[0m\u001b[1;33m\u001b[0m\u001b[1;33m\u001b[0m\u001b[0m\n\u001b[0m\u001b[0;32m     21\u001b[0m     \u001b[1;32mreturn\u001b[0m \u001b[0mmodas\u001b[0m\u001b[1;33m\u001b[0m\u001b[1;33m\u001b[0m\u001b[0m\n\u001b[0;32m     22\u001b[0m \u001b[1;33m\u001b[0m\u001b[0m\n",
      "\u001b[1;31mNameError\u001b[0m: name 'mode' is not defined"
     ]
    }
   ],
   "source": [
    "\n",
    "dfheart = pandas.read_csv('SAheart.csv',sep=';')\n",
    "print(dfheart)\n",
    "print(\"Dimension\")\n",
    "print(dfheart.shape)\n",
    "print(\"\")\n",
    "def sum_cuan(dataf):\n",
    "    total = 0\n",
    "    for colum in dataf:\n",
    "        if dataf[colum].dtypes != 'object':\n",
    "            total = total + dataf[colum].sum()\n",
    "    return total        \n",
    "        \n",
    "    \n",
    "\n",
    "print(\"Suma variables cuantitativas\",sum_cuan(dfheart))\n",
    "\n",
    "def moda(dataf):\n",
    "    modas =[]\n",
    "    for col in dataf:\n",
    "        if dataf[col].dtypes == 'object':\n",
    "            modas.append(statistics.mode(dataf[col]))\n",
    "    return modas\n",
    "\n",
    "print(\" \")        \n",
    "print(\"Modas de variables cualitativas\")\n",
    "print(moda(dfheart))"
   ]
  },
  {
   "cell_type": "markdown",
   "id": "8c65f69d",
   "metadata": {},
   "source": [
    "## Pregunta 12"
   ]
  },
  {
   "cell_type": "code",
   "execution_count": null,
   "id": "489fb75c",
   "metadata": {},
   "outputs": [],
   "source": []
  }
 ],
 "metadata": {
  "kernelspec": {
   "display_name": "Python 3 (ipykernel)",
   "language": "python",
   "name": "python3"
  },
  "language_info": {
   "codemirror_mode": {
    "name": "ipython",
    "version": 3
   },
   "file_extension": ".py",
   "mimetype": "text/x-python",
   "name": "python",
   "nbconvert_exporter": "python",
   "pygments_lexer": "ipython3",
   "version": "3.8.8"
  }
 },
 "nbformat": 4,
 "nbformat_minor": 5
}
