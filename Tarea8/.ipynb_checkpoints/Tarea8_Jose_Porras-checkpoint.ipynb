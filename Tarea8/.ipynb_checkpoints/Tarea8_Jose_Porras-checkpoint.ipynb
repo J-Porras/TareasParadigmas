{
 "cells": [
  {
   "cell_type": "markdown",
   "id": "f9db2281",
   "metadata": {},
   "source": [
    "# Tarea 8 Jose Porras Muñoz"
   ]
  },
  {
   "cell_type": "code",
   "execution_count": 19,
   "id": "bd95a477",
   "metadata": {},
   "outputs": [],
   "source": [
    "import Tarea8_Jose_Porras_modulo as ldr\n"
   ]
  },
  {
   "cell_type": "markdown",
   "id": "c132d3f1",
   "metadata": {},
   "source": [
    "## Pregunta 1\n"
   ]
  },
  {
   "cell_type": "code",
   "execution_count": 20,
   "id": "ad00ac35",
   "metadata": {},
   "outputs": [
    {
     "name": "stdout",
     "output_type": "stream",
     "text": [
      "1617\n"
     ]
    }
   ],
   "source": [
    "print(ldr.pregunta1())\n"
   ]
  },
  {
   "cell_type": "markdown",
   "id": "28524546",
   "metadata": {},
   "source": [
    "## Pregunta 2\n"
   ]
  },
  {
   "cell_type": "code",
   "execution_count": 21,
   "id": "76aaca70",
   "metadata": {},
   "outputs": [
    {
     "name": "stdout",
     "output_type": "stream",
     "text": [
      "[512, 256, 128, 64, 32, 16, 8, 4, 2, 1]\n"
     ]
    }
   ],
   "source": [
    "print(ldr.pregunta2())\n"
   ]
  },
  {
   "cell_type": "markdown",
   "id": "0e8311a5",
   "metadata": {},
   "source": [
    "## Pregunta 3\n"
   ]
  },
  {
   "cell_type": "code",
   "execution_count": 22,
   "id": "1dcaa0f3",
   "metadata": {},
   "outputs": [
    {
     "name": "stdout",
     "output_type": "stream",
     "text": [
      "The Rolling Stones\n"
     ]
    }
   ],
   "source": [
    "print(ldr.pregunta3(\"The\",\"Rolling\",\"Stones\"))\n"
   ]
  },
  {
   "cell_type": "markdown",
   "id": "1fb114d0",
   "metadata": {},
   "source": [
    "## Pregunta 4"
   ]
  },
  {
   "cell_type": "code",
   "execution_count": 23,
   "id": "c4006c17",
   "metadata": {},
   "outputs": [
    {
     "name": "stdout",
     "output_type": "stream",
     "text": [
      "isOgrAma no es isograma\n"
     ]
    }
   ],
   "source": [
    "print(ldr.isograma(\"isOgrAma\"))\n"
   ]
  },
  {
   "cell_type": "markdown",
   "id": "18f0417e",
   "metadata": {},
   "source": [
    "## Pregunta 5"
   ]
  },
  {
   "cell_type": "code",
   "execution_count": 24,
   "id": "7d77c546",
   "metadata": {},
   "outputs": [
    {
     "name": "stdout",
     "output_type": "stream",
     "text": [
      "True\n"
     ]
    }
   ],
   "source": [
    "print(ldr.esprimo(999331))\n"
   ]
  },
  {
   "cell_type": "markdown",
   "id": "5e29a6b7",
   "metadata": {},
   "source": [
    "## Pregunta 6"
   ]
  },
  {
   "cell_type": "code",
   "execution_count": 25,
   "id": "84be095c",
   "metadata": {},
   "outputs": [
    {
     "name": "stdout",
     "output_type": "stream",
     "text": [
      "2\n"
     ]
    }
   ],
   "source": [
    "print(ldr.smallprime([2,3,5,7,11,13,17,19]))\n"
   ]
  },
  {
   "cell_type": "markdown",
   "id": "816d3464",
   "metadata": {},
   "source": [
    "## Pregunta 7"
   ]
  },
  {
   "cell_type": "code",
   "execution_count": 26,
   "id": "35d5961f",
   "metadata": {},
   "outputs": [
    {
     "name": "stdout",
     "output_type": "stream",
     "text": [
      "Vcls\n"
     ]
    }
   ],
   "source": [
    "print(ldr.pregunta7(\"Vocales\"))\n"
   ]
  },
  {
   "cell_type": "markdown",
   "id": "4208e67e",
   "metadata": {},
   "source": [
    "## Pregunta 8"
   ]
  },
  {
   "cell_type": "code",
   "execution_count": 27,
   "id": "70682004",
   "metadata": {},
   "outputs": [
    {
     "name": "stdout",
     "output_type": "stream",
     "text": [
      "{'Menores o iguales': 0.25, 'Mayores': 0.75}\n"
     ]
    }
   ],
   "source": [
    "print(ldr.pregunta8([1,2,3,4,5,2,3,4,5,5,5,6],2))\n"
   ]
  },
  {
   "cell_type": "markdown",
   "id": "a60ef775",
   "metadata": {},
   "source": [
    "## Pregunta 9"
   ]
  },
  {
   "cell_type": "code",
   "execution_count": 28,
   "id": "9b328586",
   "metadata": {},
   "outputs": [
    {
     "name": "stdout",
     "output_type": "stream",
     "text": [
      "[12, 6, 3, 10, 5, 16, 8, 4, 2, 1]\n"
     ]
    }
   ],
   "source": [
    "print(ldr.pregunta9(12))\n"
   ]
  },
  {
   "cell_type": "markdown",
   "id": "9d5a5a67",
   "metadata": {},
   "source": [
    "## Pregunta 10"
   ]
  },
  {
   "cell_type": "code",
   "execution_count": 29,
   "id": "8f1607a4",
   "metadata": {},
   "outputs": [
    {
     "name": "stdout",
     "output_type": "stream",
     "text": [
      "215\n"
     ]
    }
   ],
   "source": [
    "print(ldr.diagonal([[15,25,-15],[-5,-122,85],[-56,666,322]]))\n"
   ]
  },
  {
   "cell_type": "markdown",
   "id": "f2d98a69",
   "metadata": {},
   "source": [
    "## Pregunta 11"
   ]
  },
  {
   "cell_type": "code",
   "execution_count": 30,
   "id": "3b6c4edf",
   "metadata": {},
   "outputs": [
    {
     "name": "stdout",
     "output_type": "stream",
     "text": [
      "{'Variable': 'temperatura', 'Media': 35.90102272727274, 'Mediana': 35.96, 'DesEst': 8.90566118975769, 'Varianza': 79.31080122675638, 'Maximo': 62.06, 'Minimo': 12.02}\n"
     ]
    }
   ],
   "source": [
    "import pandas\n",
    "dataclima = pandas.read_csv('clima.csv',sep=';',decimal=\".\")\n",
    "print(ldr.estadisticasCol(dataclima,0))\n"
   ]
  },
  {
   "cell_type": "markdown",
   "id": "b0b95784",
   "metadata": {},
   "source": [
    "## Pregunta 12"
   ]
  },
  {
   "cell_type": "code",
   "execution_count": 31,
   "id": "839c3f11",
   "metadata": {},
   "outputs": [
    {
     "name": "stdout",
     "output_type": "stream",
     "text": [
      "[251324.63078215]\n"
     ]
    }
   ],
   "source": [
    "print(ldr.correlacionCols(dataclima, 4, 5))\n"
   ]
  }
 ],
 "metadata": {
  "kernelspec": {
   "display_name": "Python 3 (ipykernel)",
   "language": "python",
   "name": "python3"
  },
  "language_info": {
   "codemirror_mode": {
    "name": "ipython",
    "version": 3
   },
   "file_extension": ".py",
   "mimetype": "text/x-python",
   "name": "python",
   "nbconvert_exporter": "python",
   "pygments_lexer": "ipython3",
   "version": "3.8.8"
  }
 },
 "nbformat": 4,
 "nbformat_minor": 5
}
